{
    "cells": [
        {
            "cell_type": "markdown",
            "metadata": {
                "collapsed": true
            },
            "source": "# Welcome to the Zeppelin Notebook for the study!\n\nAs an initial note, some limited familiarity with Markdown will be very handy! In order to run markdown in a paragraph/cell, you'll need to click Markdown from the selection box above, so that the interpreter will run."
        },
        {
            "cell_type": "markdown",
            "metadata": {},
            "source": "This repo contains an introduction to [Jupyter](https://jupyter.org) and [IPython](https://ipython.org).\n\nOutline of some basics:\n\n* [Notebook Basics](../examples/Notebook/Notebook%20Basics.ipynb)\n* [IPython - beyond plain python](../examples/IPython%20Kernel/Beyond%20Plain%20Python.ipynb)\n* [Markdown Cells](../examples/Notebook/Working%20With%20Markdown%20Cells.ipynb)\n* [Rich Display System](../examples/IPython%20Kernel/Rich%20Output.ipynb)\n* [Custom Display logic](../examples/IPython%20Kernel/Custom%20Display%20Logic.ipynb)\n* [Running a Secure Public Notebook Server](../examples/Notebook/Running%20the%20Notebook%20Server.ipynb#Securing-the-notebook-server)\n* [How Jupyter works](../examples/Notebook/Multiple%20Languages%2C%20Frontends.ipynb) to run code in different languages."
        },
        {
            "cell_type": "markdown",
            "metadata": {},
            "source": "You can also get this tutorial and run it on your laptop:\n\n    git clone https://github.com/ipython/ipython-in-depth\n\nInstall IPython and Jupyter:\n\nwith [conda](https://www.anaconda.com/download):\n\n    conda install ipython jupyter\n\nwith pip:\n\n    # first, always upgrade pip!\n    pip install --upgrade pip\n    pip install --upgrade ipython jupyter\n\nStart the notebook in the tutorial directory:\n\n    cd ipython-in-depth\n    jupyter notebook"
        }
    ],
    "metadata": {
        "kernelspec": {
            "display_name": "Python 3.6",
            "language": "python",
            "name": "python3"
        },
        "language_info": {
            "codemirror_mode": {
                "name": "ipython",
                "version": 3
            },
            "file_extension": ".py",
            "mimetype": "text/x-python",
            "name": "python",
            "nbconvert_exporter": "python",
            "pygments_lexer": "ipython3",
            "version": "3.6.8"
        }
    },
    "nbformat": 4,
    "nbformat_minor": 1
}
