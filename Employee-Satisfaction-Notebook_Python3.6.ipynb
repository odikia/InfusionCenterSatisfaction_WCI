{
    "cells": [
        {
            "cell_type": "markdown",
            "metadata": {
                "collapsed": true
            },
            "source": "# Welcome to the Employee-Satisfaction-Notebook!\n---"
        },
        {
            "cell_type": "markdown",
            "metadata": {},
            "source": "All files will be stored in Box [(here is the box link)](https://emory.box.com/s/le6o7eec2da1j3uzdsy8r7uyhd5ktevv)  \nThe versions of this notebook will be stored on Github [(here is the github repo link)](https://github.com/odikia/InfusionCenterSatisfaction_WCI)"
        },
        {
            "cell_type": "markdown",
            "metadata": {},
            "source": "## Purpose\nThis notebook is meant to house the research process for the employee satisfaction project survey in order to assist the publication process later"
        },
        {
            "cell_type": "markdown",
            "metadata": {},
            "source": "### Free form thoughts and notes"
        },
        {
            "cell_type": "markdown",
            "metadata": {},
            "source": "Some information can be gained from work already done with the CRCs, representing its own potential publishable research into the future, following the initial data collection process. I originally followed a willy-nilly method of categorizing information based upon how I understood the data. However, utilizing established principles of open survey content analysis is probably far more useful. These were written responses provided to Cathy in the late 2018, early 2019, then provided to me in word format following this. They were initially completely uncategorized, but Cathy created an initial categorization based on her knowledge of the CTO and the complain categories. I'm however wondering if an inductive process, flowing from content analysis for qualitative research methods, can be used. Qualitative research typically utilizes longer interviews and records them, before then coding them. In this case, I'm wondering if this methodology can be applied to written survey responses that are highly unstructured, responding to the question \"What are the greatest areas of deficieny for the CTO?\" \n\n___I do need to ensure that this is in fact the collection method used for the informal process with Cathy___"
        },
        {
            "cell_type": "code",
            "execution_count": null,
            "metadata": {},
            "outputs": [],
            "source": ""
        }
    ],
    "metadata": {
        "kernelspec": {
            "display_name": "Python 3.6",
            "language": "python",
            "name": "python3"
        },
        "language_info": {
            "codemirror_mode": {
                "name": "ipython",
                "version": 3
            },
            "file_extension": ".py",
            "mimetype": "text/x-python",
            "name": "python",
            "nbconvert_exporter": "python",
            "pygments_lexer": "ipython3",
            "version": "3.6.8"
        }
    },
    "nbformat": 4,
    "nbformat_minor": 1
}